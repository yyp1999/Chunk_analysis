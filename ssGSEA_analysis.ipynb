{
 "cells": [
  {
   "cell_type": "code",
   "execution_count": 1,
   "id": "51749e77-a24f-4535-9cdb-97a7142431a0",
   "metadata": {},
   "outputs": [],
   "source": [
    "import pandas as pd\n",
    "import numpy as np\n",
    "import sys\n",
    "sys.path.append('F:\\\\pythonproject\\\\Tensor\\\\Chunk_v2\\\\')\n",
    "import Chunk\n",
    "import seaborn as sns\n",
    "import matplotlib.pyplot as plt"
   ]
  },
  {
   "cell_type": "markdown",
   "id": "a0a7be09-118c-493a-80f4-fb41b0020de0",
   "metadata": {},
   "source": [
    "CellPhoneDB"
   ]
  },
  {
   "cell_type": "code",
   "execution_count": 6,
   "id": "8ed2961d-0e81-42ff-a4a1-f38243637224",
   "metadata": {},
   "outputs": [],
   "source": [
    "cp_lri = pd.read_csv('F:\\\\pythonproject\\\\Tensor\\\\Chunk_v2\\\\result\\\\benchmark\\\\cellphone\\\\relevant_interactions.txt',sep='\\t')"
   ]
  },
  {
   "cell_type": "code",
   "execution_count": 18,
   "id": "3fd1d580-c2e7-4154-b1e5-c589203bde4f",
   "metadata": {},
   "outputs": [],
   "source": [
    "gene_list = cp_lri['gene_b'].dropna().tolist() + cp_lri['gene_a'].dropna().tolist()\n",
    "gene_list = list(set(gene_list))"
   ]
  },
  {
   "cell_type": "code",
   "execution_count": 21,
   "id": "ef3fe8cc-dcd8-4bf5-816b-fe88a25ea6ae",
   "metadata": {},
   "outputs": [],
   "source": [
    "pd.DataFrame(gene_list,columns=['gene']).to_csv('F:\\\\pythonproject\\\\Tensor\\\\Chunk_v2\\\\result\\\\benchmark\\\\GSVA/cellphoneDB_lrgene.csv')"
   ]
  },
  {
   "cell_type": "markdown",
   "id": "a7405f66-b92e-4ac4-a28f-c42c6d7220fb",
   "metadata": {},
   "source": [
    "Multinichenet"
   ]
  },
  {
   "cell_type": "code",
   "execution_count": 22,
   "id": "889f8d8d-2b24-4817-b5de-8770270e84c8",
   "metadata": {},
   "outputs": [],
   "source": [
    "mu_lri = pd.read_csv('F:\\\\pythonproject\\\\Tensor\\\\Chunk_v2\\\\result\\\\benchmark\\\\multinichenet\\\\multinichenet_lri.csv')"
   ]
  },
  {
   "cell_type": "code",
   "execution_count": 24,
   "id": "697a0842-98b2-4b23-ad13-455c2cec5666",
   "metadata": {},
   "outputs": [],
   "source": [
    "gene_list = mu_lri['ligand'].dropna().tolist() + mu_lri['receptor'].dropna().tolist()\n",
    "gene_list = list(set(gene_list))"
   ]
  },
  {
   "cell_type": "code",
   "execution_count": 27,
   "id": "19b10b6d-3e8b-440e-a5c5-3cb3b3834dee",
   "metadata": {},
   "outputs": [],
   "source": [
    "pd.DataFrame(gene_list,columns=['gene']).to_csv('F:\\\\pythonproject\\\\Tensor\\\\Chunk_v2\\\\result\\\\benchmark\\\\GSVA/Multinichenet_lrgene.csv')"
   ]
  },
  {
   "cell_type": "markdown",
   "id": "f061a050-40b4-4ff1-81e9-8e896885ed34",
   "metadata": {},
   "source": [
    "Cellchat"
   ]
  },
  {
   "cell_type": "code",
   "execution_count": 29,
   "id": "bfba9981-aa84-4951-a0a7-40311bb855fb",
   "metadata": {},
   "outputs": [],
   "source": [
    "cc_lri = pd.read_csv('F:\\\\pythonproject\\\\Tensor\\\\Chunk_v2\\\\result\\\\benchmark\\\\cellchat\\\\cellchat_lri.csv')"
   ]
  },
  {
   "cell_type": "code",
   "execution_count": 40,
   "id": "5df7a399-f4c8-446f-9be7-1077295dc343",
   "metadata": {},
   "outputs": [],
   "source": [
    "ga=[]\n",
    "for i in cc_lri['x'].tolist():\n",
    "    ga.append(i.split('_')[0])\n",
    "    ga.append(i.split('_')[1])\n",
    "gene_list=list(set(ga))"
   ]
  },
  {
   "cell_type": "code",
   "execution_count": 42,
   "id": "86b6bf4e-71cf-4e08-b15b-472dbd0fbec8",
   "metadata": {},
   "outputs": [],
   "source": [
    "pd.DataFrame(gene_list,columns=['gene']).to_csv('F:\\\\pythonproject\\\\Tensor\\\\Chunk_v2\\\\result\\\\benchmark\\\\GSVA/cellchat_lrgene.csv')"
   ]
  },
  {
   "cell_type": "markdown",
   "id": "8390c446-e8ac-4d6f-8020-4fdd01545491",
   "metadata": {},
   "source": [
    "tensor_cell2cell"
   ]
  },
  {
   "cell_type": "code",
   "execution_count": 47,
   "id": "5f532264-9230-400e-9f95-5ddf82b4ba86",
   "metadata": {},
   "outputs": [],
   "source": [
    "tc_lri = pd.read_csv('F:\\\\pythonproject\\\\Tensor\\\\Chunk_v2\\\\result\\\\benchmark\\\\tensorc2c\\\\tensorc2c_lri.csv',index_col=0)"
   ]
  },
  {
   "cell_type": "code",
   "execution_count": 49,
   "id": "12d244fc-3663-4d8b-a6e3-7ccebd44e4fe",
   "metadata": {},
   "outputs": [],
   "source": [
    "ga=[]\n",
    "for i in tc_lri['Column1'].tolist():\n",
    "    ga.append(i.split('^')[0])\n",
    "    ga.append(i.split('^')[1])\n",
    "gene_list=list(set(ga))"
   ]
  },
  {
   "cell_type": "code",
   "execution_count": null,
   "id": "8c9c0945-00ac-47d3-8855-66a278a90675",
   "metadata": {},
   "outputs": [],
   "source": [
    "pd.DataFrame(gene_list,columns=['gene']).to_csv('F:\\\\pythonproject\\\\Tensor\\\\Chunk_v2\\\\result\\\\benchmark\\\\GSVA/tensorc2c_lrgene.csv')"
   ]
  },
  {
   "cell_type": "markdown",
   "id": "7a433680-d0bf-492c-a7e9-5e0d88d86eb1",
   "metadata": {},
   "source": [
    "scriabin"
   ]
  },
  {
   "cell_type": "code",
   "execution_count": 2,
   "id": "2e26fc5b-0189-4714-b597-855adb68283c",
   "metadata": {},
   "outputs": [],
   "source": [
    "scr_lri = pd.read_csv('F:\\\\pythonproject\\\\Tensor\\\\Chunk_v2\\\\result\\\\benchmark\\\\scriabin\\\\scriabin_lri.csv')"
   ]
  },
  {
   "cell_type": "code",
   "execution_count": 3,
   "id": "6e81d642-a086-4f69-96b0-e6141b686cbb",
   "metadata": {},
   "outputs": [],
   "source": [
    "ga=[]\n",
    "for i in scr_lri['lr_pair'].tolist():\n",
    "    ga.append(i.split('=')[0])\n",
    "    ga.append(i.split('=')[1])\n",
    "gene_list=list(set(ga))"
   ]
  },
  {
   "cell_type": "code",
   "execution_count": 4,
   "id": "3a5cce25-7f73-49f4-8ea9-25d74db8c3b4",
   "metadata": {},
   "outputs": [],
   "source": [
    "pd.DataFrame(gene_list,columns=['gene']).to_csv('F:\\\\pythonproject\\\\Tensor\\\\Chunk_v2\\\\result\\\\benchmark\\\\GSVA/scriabin_lrgene.csv')"
   ]
  },
  {
   "cell_type": "markdown",
   "id": "9eec7f27-c784-41ed-af85-36e0ae41a144",
   "metadata": {},
   "source": [
    "GSE"
   ]
  },
  {
   "cell_type": "code",
   "execution_count": 59,
   "id": "ac61025d-3047-4602-9fa6-58274c47ac42",
   "metadata": {},
   "outputs": [],
   "source": [
    "n = pd.read_csv('F:\\\\pythonproject\\\\Tensor\\\\Chunk_v2\\\\result\\\\benchmark\\\\GSVA\\\\GSE152418_p20047_Study1_RawCounts.txt.gz',index_col=0,sep='\\t')"
   ]
  },
  {
   "cell_type": "code",
   "execution_count": 63,
   "id": "4a1cc696-33d4-46e1-85a8-91ee0f23602c",
   "metadata": {
    "scrolled": true
   },
   "outputs": [
    {
     "name": "stderr",
     "output_type": "stream",
     "text": [
      "Input sequence provided is already in string format. No operation performed\n",
      "Input sequence provided is already in string format. No operation performed\n",
      "35 input query terms found dup hits:\t[('ENSG00000228044', 2), ('ENSG00000226506', 2), ('ENSG00000261600', 2), ('ENSG00000234162', 2), ('E\n",
      "1300 input query terms found no hit:\t['ENSG00000238009', 'ENSG00000288531', 'ENSG00000230699', 'ENSG00000241180', 'ENSG00000236948', 'ENS\n"
     ]
    }
   ],
   "source": [
    "import mygene\n",
    "mg = mygene.MyGeneInfo()\n",
    "\n",
    "ensembl_ids = n.index.tolist()  \n",
    "results = mg.querymany(ensembl_ids, scopes='ensembl.gene', fields='symbol', species='human')\n",
    "id_to_name = {result['query']: result.get('symbol', 'N/A') for result in results}\n",
    "n.index = n.index.map(id_to_name)"
   ]
  },
  {
   "cell_type": "code",
   "execution_count": 72,
   "id": "0abf640c-292c-495e-b28d-3ca9faa8279b",
   "metadata": {},
   "outputs": [],
   "source": [
    "label=[]\n",
    "for i in n.columns.tolist():\n",
    "    if 'nC' in i:\n",
    "        label.append('COVID')\n",
    "    else:\n",
    "        label.append('nonCOVID')\n",
    "n.columns=label\n",
    "n = n[n.index != 'N/A']\n",
    "n = n[(n > 1).any(axis=1)]\n",
    "n= n[~n.index.duplicated(keep='first')]"
   ]
  },
  {
   "cell_type": "code",
   "execution_count": 208,
   "id": "b6cbed23-45a2-41ae-8e29-ec48061f273b",
   "metadata": {},
   "outputs": [],
   "source": [
    "n.to_csv('F:\\\\pythonproject\\\\Tensor\\\\Chunk_v2\\\\result\\\\benchmark\\\\GSVA/GSE152418_count.csv')"
   ]
  },
  {
   "cell_type": "code",
   "execution_count": 204,
   "id": "57e94344-0c59-459c-8b41-181238d6993d",
   "metadata": {},
   "outputs": [],
   "source": [
    "n = pd.read_csv('F:\\\\pythonproject\\\\Tensor\\\\Chunk_v2\\\\result\\\\benchmark\\\\GSVA/GSE152418_logtpm.csv',index_col=0)"
   ]
  },
  {
   "cell_type": "code",
   "execution_count": 144,
   "id": "0783eb34-4cb9-4904-a1bf-1a137ec79fdd",
   "metadata": {},
   "outputs": [],
   "source": [
    "def counts2FPKM(counts, genelen):\n",
    "    genelen = pd.read_csv(genelen, sep=',')\n",
    "    genelen['TranscriptLength'] = genelen['Transcript end (bp)'] - genelen['Transcript start (bp)']\n",
    "    genelen = genelen[['Gene name', 'TranscriptLength']]\n",
    "    genelen = genelen.groupby('Gene name').max()\n",
    "\n",
    "    inter = counts.columns.intersection(genelen.index)\n",
    "    if len(inter) == 0:\n",
    "        raise ValueError(\"No overlapping genes found between counts and gene length data.\")\n",
    "\n",
    "    samplename = counts.index\n",
    "    counts = counts[inter].values\n",
    "    genelen = genelen.loc[inter].T.values\n",
    "\n",
    "    totalreads = counts.sum(axis=1)\n",
    "    fpkm = counts * 1e9 / (genelen * totalreads.reshape(-1, 1))\n",
    "    fpkm_df = pd.DataFrame(fpkm, columns=inter, index=samplename)\n",
    "    \n",
    "    return fpkm_df\n",
    "    \n",
    "def FPKM2TPM(fpkm):\n",
    "    genename = fpkm.columns\n",
    "    samplename = fpkm.index\n",
    "    fpkm = fpkm.values\n",
    "    total = fpkm.sum(axis=1).reshape(-1, 1)\n",
    "    fpkm = fpkm * 1e6 / total\n",
    "    tpm = pd.DataFrame(fpkm, columns=genename, index=samplename)\n",
    "    return tpm\n",
    "\n",
    "\n",
    "\n",
    "def counts2TPM(counts, genelen):\n",
    "    fpkm = counts2FPKM(counts, genelen)\n",
    "    tpm = FPKM2TPM(fpkm)\n",
    "    return tpm\n",
    "\n",
    "def counts2log1tpm(counts, genelen_file=None):\n",
    "    \"\"\"\n",
    "    Convert the count matrix of adata to TPM format (in sparse matrix mode) and perform log-normalization.\n",
    "\n",
    "    Parameters:\n",
    "    counts:row-sample,columns-gene\n",
    "    genelen_file (str): Path to the gene length file. If None, use the default file in the package.\n",
    "\n",
    "    Returns:\n",
    "    adata (AnnData): Converted AnnData object, with adata.X as a sparse matrix.\n",
    "    \"\"\"\n",
    "\n",
    "    tpm = counts2TPM(counts, genelen_file)\n",
    "\n",
    "    tpm = tpm.map(lambda x: np.log2(x + 1))\n",
    "\n",
    "    return tpm"
   ]
  },
  {
   "cell_type": "code",
   "execution_count": 145,
   "id": "a7b69f2e-265f-478c-a661-643a17ac2852",
   "metadata": {},
   "outputs": [],
   "source": [
    "m= counts2log1tpm(n.T,'F:\\\\pythonproject\\\\Tensor\\\\Chunk_v2\\\\Chunk\\\\data\\\\GeneLength.txt')"
   ]
  },
  {
   "cell_type": "code",
   "execution_count": 149,
   "id": "09119e12-ae35-4e16-b013-7eed758e52dd",
   "metadata": {},
   "outputs": [],
   "source": [
    "m.T.to_csv('F:\\\\pythonproject\\\\Tensor\\\\Chunk_v2\\\\result\\\\benchmark\\\\GSVA/GSE152418_logtpm.csv')"
   ]
  },
  {
   "cell_type": "markdown",
   "id": "80199cc1-02f8-4bac-9f67-f5b271839764",
   "metadata": {},
   "source": [
    "Visization"
   ]
  },
  {
   "cell_type": "markdown",
   "id": "b973f278-7029-46e6-9281-b11e9b581e97",
   "metadata": {},
   "source": [
    "ssGSEA"
   ]
  },
  {
   "cell_type": "code",
   "execution_count": 10,
   "id": "f171c8e8-13b6-49ba-9b64-45d4b1282565",
   "metadata": {},
   "outputs": [],
   "source": [
    "import gseapy as gp\n",
    "n = pd.read_csv('F:\\\\pythonproject\\\\Tensor\\\\Chunk_v2\\\\result\\\\benchmark\\\\GSVA/GSE152418_logtpm.csv',index_col=0)\n",
    "#lr_genes = pd.read_csv('F:\\\\pythonproject\\\\Tensor\\\\Chunk_v2\\\\result\\\\benchmark\\\\GSVA/Chunk_lrgene.csv',index_col=0)['gene'].tolist()\n",
    "#lr_genes = pd.read_csv('F:\\\\pythonproject\\\\Tensor\\\\Chunk_v2\\\\result\\\\benchmark\\\\GSVA/cellphoneDB_lrgene.csv',index_col=0)['gene'].tolist()\n",
    "#lr_genes = pd.read_csv('F:\\\\pythonproject\\\\Tensor\\\\Chunk_v2\\\\result\\\\benchmark\\\\GSVA/cellchat_lrgene.csv',index_col=0)['gene'].tolist()\n",
    "#lr_genes = pd.read_csv('F:\\\\pythonproject\\\\Tensor\\\\Chunk_v2\\\\result\\\\benchmark\\\\GSVA/tensorc2c_lrgene.csv',index_col=0)['gene'].tolist()\n",
    "#lr_genes = pd.read_csv('F:\\\\pythonproject\\\\Tensor\\\\Chunk_v2\\\\result\\\\benchmark\\\\GSVA/Multinichenet_lrgene.csv',index_col=0)['gene'].tolist()\n",
    "lr_genes = pd.read_csv('F:\\\\pythonproject\\\\Tensor\\\\Chunk_v2\\\\result\\\\benchmark\\\\GSVA/scriabin_lrgene.csv',index_col=0)['gene'].tolist()\n",
    "gene_list = lr_genes\n",
    "gene_set = {'COVID relevant L-R gene':gene_list}\n",
    "ssgsea_results = gp.ssgsea(\n",
    "    data=n,                                 \n",
    "    gene_sets=gene_set,                \n",
    "    outdir=None,                              \n",
    "    sample_norm_method='rank',                 \n",
    "    weight=0,\n",
    "    min_size=5,                                \n",
    "    max_size=1000,                            \n",
    "    threads=4             \n",
    ")\n",
    "\n",
    "es_matrix = ssgsea_results.res2d\n",
    "es_matrix.index = es_matrix['Name']\n",
    "es_matrix = es_matrix.drop('Name',axis=1)\n",
    "es_matrix['sample']=es_matrix.index\n",
    "es_matrix['Group'] = es_matrix['sample'].apply(lambda x: 'nonCOVID' if 'nonCOVID' in x else 'COVID')"
   ]
  },
  {
   "cell_type": "code",
   "execution_count": 8,
   "id": "181a1f5e-e935-4b93-a133-a2d0cc5251d1",
   "metadata": {},
   "outputs": [
    {
     "name": "stderr",
     "output_type": "stream",
     "text": [
      "C:\\Users\\Admin\\AppData\\Local\\Temp\\ipykernel_29612\\1885104309.py:3: FutureWarning: \n",
      "\n",
      "Passing `palette` without assigning `hue` is deprecated and will be removed in v0.14.0. Assign the `x` variable to `hue` and set `legend=False` for the same effect.\n",
      "\n",
      "  sns.boxplot(data=es_matrix, x='Group', y='NES', palette='Set2')\n"
     ]
    },
    {
     "data": {
      "image/png": "[encoded data removed]",
      "text/plain": [
       "<Figure size 600x500 with 1 Axes>"
      ]
     },
     "metadata": {},
     "output_type": "display_data"
    }
   ],
   "source": [
    "#Chunk\n",
    "plt.figure(figsize=(6, 5))\n",
    "sns.boxplot(data=es_matrix, x='Group', y='NES', palette='Set2')\n",
    "sns.stripplot(data=es_matrix, x='Group', y='NES', color='black', alpha=0.5)\n",
    "\n",
    "from scipy.stats import ttest_ind\n",
    "\n",
    "group1 = es_matrix[es_matrix['Group'] == 'nonCOVID']['NES']\n",
    "group2 = es_matrix[es_matrix['Group'] == 'COVID']['NES']\n",
    "t_stat, p_val = ttest_ind(group1.tolist(), group2.tolist())\n",
    "plt.ylabel('Score', fontsize=10)\n",
    "plt.title(f'Chunk - LR gene signature score comparison\\np = {p_val:.3e}')\n",
    "plt.tight_layout()\n",
    "#plt.savefig('F:\\\\pythonproject\\\\Tensor\\\\Chunk_v2\\\\result\\\\benchmark\\\\GSVA\\\\ssGSEA_pic\\\\Chunk_ssgsea.png')\n",
    "plt.show()"
   ]
  },
  {
   "cell_type": "code",
   "execution_count": 9,
   "id": "f658fea7-12bc-4013-9d3c-6f91764a3827",
   "metadata": {},
   "outputs": [
    {
     "data": {
      "text/html": [
       "<div>\n",
       "<style scoped>\n",
       "    .dataframe tbody tr th:only-of-type {\n",
       "        vertical-align: middle;\n",
       "    }\n",
       "\n",
       "    .dataframe tbody tr th {\n",
       "        vertical-align: top;\n",
       "    }\n",
       "\n",
       "    .dataframe thead th {\n",
       "        text-align: right;\n",
       "    }\n",
       "</style>\n",
       "<table border=\"1\" class=\"dataframe\">\n",
       "  <thead>\n",
       "    <tr style=\"text-align: right;\">\n",
       "      <th></th>\n",
       "      <th>Term</th>\n",
       "      <th>ES</th>\n",
       "      <th>NES</th>\n",
       "      <th>sample</th>\n",
       "      <th>Group</th>\n",
       "    </tr>\n",
       "    <tr>\n",
       "      <th>Name</th>\n",
       "      <th></th>\n",
       "      <th></th>\n",
       "      <th></th>\n",
       "      <th></th>\n",
       "      <th></th>\n",
       "    </tr>\n",
       "  </thead>\n",
       "  <tbody>\n",
       "    <tr>\n",
       "      <th>COVID.9</th>\n",
       "      <td>COVID relevant L-R gene</td>\n",
       "      <td>10254.928395</td>\n",
       "      <td>6.928586</td>\n",
       "      <td>COVID.9</td>\n",
       "      <td>COVID</td>\n",
       "    </tr>\n",
       "    <tr>\n",
       "      <th>COVID.7</th>\n",
       "      <td>COVID relevant L-R gene</td>\n",
       "      <td>10024.423074</td>\n",
       "      <td>6.772849</td>\n",
       "      <td>COVID.7</td>\n",
       "      <td>COVID</td>\n",
       "    </tr>\n",
       "    <tr>\n",
       "      <th>COVID.13</th>\n",
       "      <td>COVID relevant L-R gene</td>\n",
       "      <td>9981.073618</td>\n",
       "      <td>6.74356</td>\n",
       "      <td>COVID.13</td>\n",
       "      <td>COVID</td>\n",
       "    </tr>\n",
       "    <tr>\n",
       "      <th>COVID.12</th>\n",
       "      <td>COVID relevant L-R gene</td>\n",
       "      <td>9961.626297</td>\n",
       "      <td>6.730421</td>\n",
       "      <td>COVID.12</td>\n",
       "      <td>COVID</td>\n",
       "    </tr>\n",
       "    <tr>\n",
       "      <th>COVID.3</th>\n",
       "      <td>COVID relevant L-R gene</td>\n",
       "      <td>9781.000581</td>\n",
       "      <td>6.608384</td>\n",
       "      <td>COVID.3</td>\n",
       "      <td>COVID</td>\n",
       "    </tr>\n",
       "    <tr>\n",
       "      <th>COVID.14</th>\n",
       "      <td>COVID relevant L-R gene</td>\n",
       "      <td>9768.97795</td>\n",
       "      <td>6.600261</td>\n",
       "      <td>COVID.14</td>\n",
       "      <td>COVID</td>\n",
       "    </tr>\n",
       "    <tr>\n",
       "      <th>COVID.6</th>\n",
       "      <td>COVID relevant L-R gene</td>\n",
       "      <td>9765.757603</td>\n",
       "      <td>6.598085</td>\n",
       "      <td>COVID.6</td>\n",
       "      <td>COVID</td>\n",
       "    </tr>\n",
       "    <tr>\n",
       "      <th>COVID.5</th>\n",
       "      <td>COVID relevant L-R gene</td>\n",
       "      <td>9594.864493</td>\n",
       "      <td>6.482624</td>\n",
       "      <td>COVID.5</td>\n",
       "      <td>COVID</td>\n",
       "    </tr>\n",
       "    <tr>\n",
       "      <th>nonCOVID.10</th>\n",
       "      <td>COVID relevant L-R gene</td>\n",
       "      <td>9571.141266</td>\n",
       "      <td>6.466596</td>\n",
       "      <td>nonCOVID.10</td>\n",
       "      <td>nonCOVID</td>\n",
       "    </tr>\n",
       "    <tr>\n",
       "      <th>COVID.4</th>\n",
       "      <td>COVID relevant L-R gene</td>\n",
       "      <td>9560.997171</td>\n",
       "      <td>6.459742</td>\n",
       "      <td>COVID.4</td>\n",
       "      <td>COVID</td>\n",
       "    </tr>\n",
       "    <tr>\n",
       "      <th>COVID.1</th>\n",
       "      <td>COVID relevant L-R gene</td>\n",
       "      <td>9540.440619</td>\n",
       "      <td>6.445853</td>\n",
       "      <td>COVID.1</td>\n",
       "      <td>COVID</td>\n",
       "    </tr>\n",
       "    <tr>\n",
       "      <th>nonCOVID.15</th>\n",
       "      <td>COVID relevant L-R gene</td>\n",
       "      <td>9516.824737</td>\n",
       "      <td>6.429898</td>\n",
       "      <td>nonCOVID.15</td>\n",
       "      <td>nonCOVID</td>\n",
       "    </tr>\n",
       "    <tr>\n",
       "      <th>nonCOVID.4</th>\n",
       "      <td>COVID relevant L-R gene</td>\n",
       "      <td>9486.481907</td>\n",
       "      <td>6.409397</td>\n",
       "      <td>nonCOVID.4</td>\n",
       "      <td>nonCOVID</td>\n",
       "    </tr>\n",
       "    <tr>\n",
       "      <th>COVID.2</th>\n",
       "      <td>COVID relevant L-R gene</td>\n",
       "      <td>9484.156101</td>\n",
       "      <td>6.407826</td>\n",
       "      <td>COVID.2</td>\n",
       "      <td>COVID</td>\n",
       "    </tr>\n",
       "    <tr>\n",
       "      <th>nonCOVID.1</th>\n",
       "      <td>COVID relevant L-R gene</td>\n",
       "      <td>9476.463048</td>\n",
       "      <td>6.402628</td>\n",
       "      <td>nonCOVID.1</td>\n",
       "      <td>nonCOVID</td>\n",
       "    </tr>\n",
       "    <tr>\n",
       "      <th>COVID.15</th>\n",
       "      <td>COVID relevant L-R gene</td>\n",
       "      <td>9404.70297</td>\n",
       "      <td>6.354144</td>\n",
       "      <td>COVID.15</td>\n",
       "      <td>COVID</td>\n",
       "    </tr>\n",
       "    <tr>\n",
       "      <th>COVID.8</th>\n",
       "      <td>COVID relevant L-R gene</td>\n",
       "      <td>9354.393985</td>\n",
       "      <td>6.320154</td>\n",
       "      <td>COVID.8</td>\n",
       "      <td>COVID</td>\n",
       "    </tr>\n",
       "    <tr>\n",
       "      <th>nonCOVID.6</th>\n",
       "      <td>COVID relevant L-R gene</td>\n",
       "      <td>9354.304531</td>\n",
       "      <td>6.320093</td>\n",
       "      <td>nonCOVID.6</td>\n",
       "      <td>nonCOVID</td>\n",
       "    </tr>\n",
       "    <tr>\n",
       "      <th>nonCOVID.9</th>\n",
       "      <td>COVID relevant L-R gene</td>\n",
       "      <td>9321.349641</td>\n",
       "      <td>6.297828</td>\n",
       "      <td>nonCOVID.9</td>\n",
       "      <td>nonCOVID</td>\n",
       "    </tr>\n",
       "    <tr>\n",
       "      <th>COVID.10</th>\n",
       "      <td>COVID relevant L-R gene</td>\n",
       "      <td>9319.149071</td>\n",
       "      <td>6.296341</td>\n",
       "      <td>COVID.10</td>\n",
       "      <td>COVID</td>\n",
       "    </tr>\n",
       "    <tr>\n",
       "      <th>nonCOVID.5</th>\n",
       "      <td>COVID relevant L-R gene</td>\n",
       "      <td>9304.174454</td>\n",
       "      <td>6.286224</td>\n",
       "      <td>nonCOVID.5</td>\n",
       "      <td>nonCOVID</td>\n",
       "    </tr>\n",
       "    <tr>\n",
       "      <th>nonCOVID.14</th>\n",
       "      <td>COVID relevant L-R gene</td>\n",
       "      <td>9208.709041</td>\n",
       "      <td>6.221724</td>\n",
       "      <td>nonCOVID.14</td>\n",
       "      <td>nonCOVID</td>\n",
       "    </tr>\n",
       "    <tr>\n",
       "      <th>COVID.11</th>\n",
       "      <td>COVID relevant L-R gene</td>\n",
       "      <td>9199.280579</td>\n",
       "      <td>6.215354</td>\n",
       "      <td>COVID.11</td>\n",
       "      <td>COVID</td>\n",
       "    </tr>\n",
       "    <tr>\n",
       "      <th>nonCOVID.11</th>\n",
       "      <td>COVID relevant L-R gene</td>\n",
       "      <td>9172.587476</td>\n",
       "      <td>6.197319</td>\n",
       "      <td>nonCOVID.11</td>\n",
       "      <td>nonCOVID</td>\n",
       "    </tr>\n",
       "    <tr>\n",
       "      <th>COVID</th>\n",
       "      <td>COVID relevant L-R gene</td>\n",
       "      <td>9171.245664</td>\n",
       "      <td>6.196412</td>\n",
       "      <td>COVID</td>\n",
       "      <td>COVID</td>\n",
       "    </tr>\n",
       "    <tr>\n",
       "      <th>nonCOVID.16</th>\n",
       "      <td>COVID relevant L-R gene</td>\n",
       "      <td>9122.618416</td>\n",
       "      <td>6.163558</td>\n",
       "      <td>nonCOVID.16</td>\n",
       "      <td>nonCOVID</td>\n",
       "    </tr>\n",
       "    <tr>\n",
       "      <th>COVID.16</th>\n",
       "      <td>COVID relevant L-R gene</td>\n",
       "      <td>9044.847023</td>\n",
       "      <td>6.111013</td>\n",
       "      <td>COVID.16</td>\n",
       "      <td>COVID</td>\n",
       "    </tr>\n",
       "    <tr>\n",
       "      <th>nonCOVID.12</th>\n",
       "      <td>COVID relevant L-R gene</td>\n",
       "      <td>9038.281092</td>\n",
       "      <td>6.106577</td>\n",
       "      <td>nonCOVID.12</td>\n",
       "      <td>nonCOVID</td>\n",
       "    </tr>\n",
       "    <tr>\n",
       "      <th>nonCOVID.2</th>\n",
       "      <td>COVID relevant L-R gene</td>\n",
       "      <td>8996.380792</td>\n",
       "      <td>6.078268</td>\n",
       "      <td>nonCOVID.2</td>\n",
       "      <td>nonCOVID</td>\n",
       "    </tr>\n",
       "    <tr>\n",
       "      <th>nonCOVID.3</th>\n",
       "      <td>COVID relevant L-R gene</td>\n",
       "      <td>8992.033323</td>\n",
       "      <td>6.07533</td>\n",
       "      <td>nonCOVID.3</td>\n",
       "      <td>nonCOVID</td>\n",
       "    </tr>\n",
       "    <tr>\n",
       "      <th>nonCOVID.13</th>\n",
       "      <td>COVID relevant L-R gene</td>\n",
       "      <td>8985.145358</td>\n",
       "      <td>6.070677</td>\n",
       "      <td>nonCOVID.13</td>\n",
       "      <td>nonCOVID</td>\n",
       "    </tr>\n",
       "    <tr>\n",
       "      <th>nonCOVID.8</th>\n",
       "      <td>COVID relevant L-R gene</td>\n",
       "      <td>8929.594362</td>\n",
       "      <td>6.033144</td>\n",
       "      <td>nonCOVID.8</td>\n",
       "      <td>nonCOVID</td>\n",
       "    </tr>\n",
       "    <tr>\n",
       "      <th>nonCOVID</th>\n",
       "      <td>COVID relevant L-R gene</td>\n",
       "      <td>8927.14332</td>\n",
       "      <td>6.031488</td>\n",
       "      <td>nonCOVID</td>\n",
       "      <td>nonCOVID</td>\n",
       "    </tr>\n",
       "    <tr>\n",
       "      <th>nonCOVID.7</th>\n",
       "      <td>COVID relevant L-R gene</td>\n",
       "      <td>8774.838772</td>\n",
       "      <td>5.928586</td>\n",
       "      <td>nonCOVID.7</td>\n",
       "      <td>nonCOVID</td>\n",
       "    </tr>\n",
       "  </tbody>\n",
       "</table>\n",
       "</div>"
      ],
      "text/plain": [
       "                                Term            ES       NES       sample  \\\n",
       "Name                                                                        \n",
       "COVID.9      COVID relevant L-R gene  10254.928395  6.928586      COVID.9   \n",
       "COVID.7      COVID relevant L-R gene  10024.423074  6.772849      COVID.7   \n",
       "COVID.13     COVID relevant L-R gene   9981.073618   6.74356     COVID.13   \n",
       "COVID.12     COVID relevant L-R gene   9961.626297  6.730421     COVID.12   \n",
       "COVID.3      COVID relevant L-R gene   9781.000581  6.608384      COVID.3   \n",
       "COVID.14     COVID relevant L-R gene    9768.97795  6.600261     COVID.14   \n",
       "COVID.6      COVID relevant L-R gene   9765.757603  6.598085      COVID.6   \n",
       "COVID.5      COVID relevant L-R gene   9594.864493  6.482624      COVID.5   \n",
       "nonCOVID.10  COVID relevant L-R gene   9571.141266  6.466596  nonCOVID.10   \n",
       "COVID.4      COVID relevant L-R gene   9560.997171  6.459742      COVID.4   \n",
       "COVID.1      COVID relevant L-R gene   9540.440619  6.445853      COVID.1   \n",
       "nonCOVID.15  COVID relevant L-R gene   9516.824737  6.429898  nonCOVID.15   \n",
       "nonCOVID.4   COVID relevant L-R gene   9486.481907  6.409397   nonCOVID.4   \n",
       "COVID.2      COVID relevant L-R gene   9484.156101  6.407826      COVID.2   \n",
       "nonCOVID.1   COVID relevant L-R gene   9476.463048  6.402628   nonCOVID.1   \n",
       "COVID.15     COVID relevant L-R gene    9404.70297  6.354144     COVID.15   \n",
       "COVID.8      COVID relevant L-R gene   9354.393985  6.320154      COVID.8   \n",
       "nonCOVID.6   COVID relevant L-R gene   9354.304531  6.320093   nonCOVID.6   \n",
       "nonCOVID.9   COVID relevant L-R gene   9321.349641  6.297828   nonCOVID.9   \n",
       "COVID.10     COVID relevant L-R gene   9319.149071  6.296341     COVID.10   \n",
       "nonCOVID.5   COVID relevant L-R gene   9304.174454  6.286224   nonCOVID.5   \n",
       "nonCOVID.14  COVID relevant L-R gene   9208.709041  6.221724  nonCOVID.14   \n",
       "COVID.11     COVID relevant L-R gene   9199.280579  6.215354     COVID.11   \n",
       "nonCOVID.11  COVID relevant L-R gene   9172.587476  6.197319  nonCOVID.11   \n",
       "COVID        COVID relevant L-R gene   9171.245664  6.196412        COVID   \n",
       "nonCOVID.16  COVID relevant L-R gene   9122.618416  6.163558  nonCOVID.16   \n",
       "COVID.16     COVID relevant L-R gene   9044.847023  6.111013     COVID.16   \n",
       "nonCOVID.12  COVID relevant L-R gene   9038.281092  6.106577  nonCOVID.12   \n",
       "nonCOVID.2   COVID relevant L-R gene   8996.380792  6.078268   nonCOVID.2   \n",
       "nonCOVID.3   COVID relevant L-R gene   8992.033323   6.07533   nonCOVID.3   \n",
       "nonCOVID.13  COVID relevant L-R gene   8985.145358  6.070677  nonCOVID.13   \n",
       "nonCOVID.8   COVID relevant L-R gene   8929.594362  6.033144   nonCOVID.8   \n",
       "nonCOVID     COVID relevant L-R gene    8927.14332  6.031488     nonCOVID   \n",
       "nonCOVID.7   COVID relevant L-R gene   8774.838772  5.928586   nonCOVID.7   \n",
       "\n",
       "                Group  \n",
       "Name                   \n",
       "COVID.9         COVID  \n",
       "COVID.7         COVID  \n",
       "COVID.13        COVID  \n",
       "COVID.12        COVID  \n",
       "COVID.3         COVID  \n",
       "COVID.14        COVID  \n",
       "COVID.6         COVID  \n",
       "COVID.5         COVID  \n",
       "nonCOVID.10  nonCOVID  \n",
       "COVID.4         COVID  \n",
       "COVID.1         COVID  \n",
       "nonCOVID.15  nonCOVID  \n",
       "nonCOVID.4   nonCOVID  \n",
       "COVID.2         COVID  \n",
       "nonCOVID.1   nonCOVID  \n",
       "COVID.15        COVID  \n",
       "COVID.8         COVID  \n",
       "nonCOVID.6   nonCOVID  \n",
       "nonCOVID.9   nonCOVID  \n",
       "COVID.10        COVID  \n",
       "nonCOVID.5   nonCOVID  \n",
       "nonCOVID.14  nonCOVID  \n",
       "COVID.11        COVID  \n",
       "nonCOVID.11  nonCOVID  \n",
       "COVID           COVID  \n",
       "nonCOVID.16  nonCOVID  \n",
       "COVID.16        COVID  \n",
       "nonCOVID.12  nonCOVID  \n",
       "nonCOVID.2   nonCOVID  \n",
       "nonCOVID.3   nonCOVID  \n",
       "nonCOVID.13  nonCOVID  \n",
       "nonCOVID.8   nonCOVID  \n",
       "nonCOVID     nonCOVID  \n",
       "nonCOVID.7   nonCOVID  "
      ]
     },
     "execution_count": 9,
     "metadata": {},
     "output_type": "execute_result"
    }
   ],
   "source": [
    "es_matrix"
   ]
  },
  {
   "cell_type": "code",
   "execution_count": 21,
   "id": "fcf259ed-4568-4384-806d-80b99fc48b23",
   "metadata": {},
   "outputs": [
    {
     "name": "stderr",
     "output_type": "stream",
     "text": [
      "C:\\Users\\Admin\\AppData\\Local\\Temp\\ipykernel_29612\\395122798.py:3: FutureWarning: \n",
      "\n",
      "Passing `palette` without assigning `hue` is deprecated and will be removed in v0.14.0. Assign the `x` variable to `hue` and set `legend=False` for the same effect.\n",
      "\n",
      "  sns.boxplot(data=es_matrix.loc[n.columns], x='Group', y='NES', palette='Set2')\n"
     ]
    },
    {
     "data": {
      "image/png": "[encoded data removed]",
      "text/plain": [
       "<Figure size 600x500 with 1 Axes>"
      ]
     },
     "metadata": {},
     "output_type": "display_data"
    }
   ],
   "source": [
    "#Scriabin\n",
    "plt.figure(figsize=(6, 5))\n",
    "sns.boxplot(data=es_matrix.loc[n.columns], x='Group', y='NES', palette='Set2')\n",
    "sns.stripplot(data=es_matrix.loc[n.columns], x='Group', y='NES', color='black', alpha=0.5)\n",
    "\n",
    "from scipy.stats import ttest_ind\n",
    "\n",
    "group1 = es_matrix[es_matrix['Group'] == 'nonCOVID']['NES']\n",
    "group2 = es_matrix[es_matrix['Group'] == 'COVID']['NES']\n",
    "t_stat, p_val = ttest_ind(group1.tolist(), group2.tolist())\n",
    "plt.ylabel('Score', fontsize=10)\n",
    "plt.title(f'Scriabin - LR gene signature score comparison\\np = {p_val:.3e}')\n",
    "plt.tight_layout()\n",
    "#plt.savefig('F:\\\\pythonproject\\\\Tensor\\\\Chunk_v2\\\\result\\\\benchmark\\\\GSVA\\\\ssGSEA_pic\\\\scriabin_ssgsea.png')\n",
    "plt.show()"
   ]
  },
  {
   "cell_type": "code",
   "execution_count": 252,
   "id": "8e60b7f7-cbf4-4091-b49e-0bd962c58e1f",
   "metadata": {},
   "outputs": [
    {
     "name": "stderr",
     "output_type": "stream",
     "text": [
      "C:\\Users\\Admin\\AppData\\Local\\Temp\\ipykernel_27180\\2356069047.py:3: FutureWarning: \n",
      "\n",
      "Passing `palette` without assigning `hue` is deprecated and will be removed in v0.14.0. Assign the `x` variable to `hue` and set `legend=False` for the same effect.\n",
      "\n",
      "  sns.boxplot(data=es_matrix, x='Group', y='NES', palette='Set2')\n"
     ]
    },
    {
     "data": {
      "image/png": "[encoded data removed]",
      "text/plain": [
       "<Figure size 600x500 with 1 Axes>"
      ]
     },
     "metadata": {},
     "output_type": "display_data"
    }
   ],
   "source": [
    "#Cellphonedb\n",
    "plt.figure(figsize=(6, 5))\n",
    "sns.boxplot(data=es_matrix, x='Group', y='NES', palette='Set2')\n",
    "sns.stripplot(data=es_matrix, x='Group', y='NES', color='black', alpha=0.5)\n",
    "\n",
    "from scipy.stats import ttest_ind\n",
    "\n",
    "group1 = es_matrix[es_matrix['Group'] == 'nonCOVID']['NES']\n",
    "group2 = es_matrix[es_matrix['Group'] == 'COVID']['NES']\n",
    "t_stat, p_val = ttest_ind(group1.tolist(), group2.tolist())\n",
    "\n",
    "plt.ylabel('Score', fontsize=10)\n",
    "plt.title(f'CellphoneDB - LR gene signature score comparison\\np = {p_val:.3e}')\n",
    "plt.tight_layout()\n",
    "#plt.savefig('F:\\\\pythonproject\\\\Tensor\\\\Chunk_v2\\\\result\\\\benchmark\\\\GSVA\\\\ssGSEA_pic\\\\cellphonedb_ssgsea.png')\n",
    "plt.show()\n"
   ]
  },
  {
   "cell_type": "code",
   "execution_count": 254,
   "id": "9f5c6f81-354c-492e-b93d-8f6ad86e572c",
   "metadata": {},
   "outputs": [
    {
     "name": "stderr",
     "output_type": "stream",
     "text": [
      "C:\\Users\\Admin\\AppData\\Local\\Temp\\ipykernel_27180\\1888333916.py:3: FutureWarning: \n",
      "\n",
      "Passing `palette` without assigning `hue` is deprecated and will be removed in v0.14.0. Assign the `x` variable to `hue` and set `legend=False` for the same effect.\n",
      "\n",
      "  sns.boxplot(data=es_matrix, x='Group', y='NES', palette='Set2')\n"
     ]
    },
    {
     "data": {
      "image/png": "[encoded data removed]",
      "text/plain": [
       "<Figure size 600x500 with 1 Axes>"
      ]
     },
     "metadata": {},
     "output_type": "display_data"
    }
   ],
   "source": [
    "#Cellchat\n",
    "plt.figure(figsize=(6, 5))\n",
    "sns.boxplot(data=es_matrix, x='Group', y='NES', palette='Set2')\n",
    "sns.stripplot(data=es_matrix, x='Group', y='NES', color='black', alpha=0.5)\n",
    "\n",
    "from scipy.stats import ttest_ind\n",
    "\n",
    "group1 = es_matrix[es_matrix['Group'] == 'nonCOVID']['NES']\n",
    "group2 = es_matrix[es_matrix['Group'] == 'COVID']['NES']\n",
    "t_stat, p_val = ttest_ind(group1.tolist(), group2.tolist())\n",
    "\n",
    "plt.ylabel('Score', fontsize=10)\n",
    "plt.title(f'CellChat - LR gene signature score comparison\\np = {p_val:.3e}')\n",
    "plt.tight_layout()\n",
    "#plt.savefig('F:\\\\pythonproject\\\\Tensor\\\\Chunk_v2\\\\result\\\\benchmark\\\\GSVA\\\\ssGSEA_pic\\\\cellchat_ssgsea.png')\n",
    "plt.show()\n"
   ]
  },
  {
   "cell_type": "code",
   "execution_count": 256,
   "id": "af13743a-5672-486a-a466-d4c012b533ca",
   "metadata": {},
   "outputs": [
    {
     "name": "stderr",
     "output_type": "stream",
     "text": [
      "C:\\Users\\Admin\\AppData\\Local\\Temp\\ipykernel_27180\\2422516002.py:3: FutureWarning: \n",
      "\n",
      "Passing `palette` without assigning `hue` is deprecated and will be removed in v0.14.0. Assign the `x` variable to `hue` and set `legend=False` for the same effect.\n",
      "\n",
      "  sns.boxplot(data=es_matrix, x='Group', y='NES', palette='Set2')\n"
     ]
    },
    {
     "data": {
      "image/png": "[encoded data removed]",
      "text/plain": [
       "<Figure size 600x500 with 1 Axes>"
      ]
     },
     "metadata": {},
     "output_type": "display_data"
    }
   ],
   "source": [
    "#Tensor-c2c\n",
    "plt.figure(figsize=(6, 5))\n",
    "sns.boxplot(data=es_matrix, x='Group', y='NES', palette='Set2')\n",
    "sns.stripplot(data=es_matrix, x='Group', y='NES', color='black', alpha=0.5)\n",
    "\n",
    "from scipy.stats import ttest_ind\n",
    "\n",
    "group1 = es_matrix[es_matrix['Group'] == 'nonCOVID']['NES']\n",
    "group2 = es_matrix[es_matrix['Group'] == 'COVID']['NES']\n",
    "t_stat, p_val = ttest_ind(group1.tolist(), group2.tolist())\n",
    "\n",
    "plt.ylabel('Score', fontsize=10)\n",
    "plt.title(f'Tensor-cell2cell - LR gene signature score comparison\\np = {p_val:.3e}')\n",
    "plt.tight_layout()\n",
    "#plt.savefig('F:\\\\pythonproject\\\\Tensor\\\\Chunk_v2\\\\result\\\\benchmark\\\\GSVA\\\\ssGSEA_pic\\\\tensorc2c_ssgsea.png')\n",
    "plt.show()\n"
   ]
  },
  {
   "cell_type": "code",
   "execution_count": 258,
   "id": "4dd73760-f886-45bb-b39c-55653f0f50be",
   "metadata": {},
   "outputs": [
    {
     "name": "stderr",
     "output_type": "stream",
     "text": [
      "C:\\Users\\Admin\\AppData\\Local\\Temp\\ipykernel_27180\\1068516463.py:3: FutureWarning: \n",
      "\n",
      "Passing `palette` without assigning `hue` is deprecated and will be removed in v0.14.0. Assign the `x` variable to `hue` and set `legend=False` for the same effect.\n",
      "\n",
      "  sns.boxplot(data=es_matrix, x='Group', y='NES', palette='Set2')\n"
     ]
    },
    {
     "data": {
      "image/png": "[encoded data removed]",
      "text/plain": [
       "<Figure size 600x500 with 1 Axes>"
      ]
     },
     "metadata": {},
     "output_type": "display_data"
    }
   ],
   "source": [
    "#MultiNiche\n",
    "plt.figure(figsize=(6, 5))\n",
    "sns.boxplot(data=es_matrix, x='Group', y='NES', palette='Set2')\n",
    "sns.stripplot(data=es_matrix, x='Group', y='NES', color='black', alpha=0.5)\n",
    "\n",
    "from scipy.stats import ttest_ind\n",
    "\n",
    "group1 = es_matrix[es_matrix['Group'] == 'nonCOVID']['NES']\n",
    "group2 = es_matrix[es_matrix['Group'] == 'COVID']['NES']\n",
    "t_stat, p_val = ttest_ind(group1.tolist(), group2.tolist())\n",
    "\n",
    "plt.ylabel('Score', fontsize=10)\n",
    "plt.title(f'MultiNicheNet - LR gene signature score comparison\\np = {p_val:.3e}')\n",
    "plt.tight_layout()\n",
    "#plt.savefig('F:\\\\pythonproject\\\\Tensor\\\\Chunk_v2\\\\result\\\\benchmark\\\\GSVA\\\\ssGSEA_pic\\\\multinichenet_ssgsea.png')\n",
    "plt.show()"
   ]
  }
 ],
 "metadata": {
  "kernelspec": {
   "display_name": "Python 3 (ipykernel)",
   "language": "python",
   "name": "python3"
  },
  "language_info": {
   "codemirror_mode": {
    "name": "ipython",
    "version": 3
   },
   "file_extension": ".py",
   "mimetype": "text/x-python",
   "name": "python",
   "nbconvert_exporter": "python",
   "pygments_lexer": "ipython3",
   "version": "3.12.4"
  }
 },
 "nbformat": 4,
 "nbformat_minor": 5
}
